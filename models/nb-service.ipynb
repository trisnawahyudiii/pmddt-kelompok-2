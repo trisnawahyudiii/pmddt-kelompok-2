{
 "cells": [
  {
   "cell_type": "code",
   "execution_count": 1,
   "metadata": {},
   "outputs": [],
   "source": [
    "import pandas as pd\n",
    "from sklearn.model_selection import train_test_split\n",
    "from sklearn.feature_extraction.text import TfidfVectorizer\n",
    "from imblearn.over_sampling import SMOTE\n",
    "from matplotlib import pyplot as plt\n",
    "\n",
    "from sklearn.naive_bayes import MultinomialNB\n",
    "from sklearn.model_selection import GridSearchCV, cross_val_score, KFold\n",
    "from sklearn.metrics import accuracy_score, precision_score, recall_score, f1_score, ConfusionMatrixDisplay, classification_report\n",
    "from Sastrawi.StopWordRemover.StopWordRemoverFactory import StopWordRemoverFactory\n",
    "\n",
    "import pickle"
   ]
  },
  {
   "cell_type": "markdown",
   "metadata": {},
   "source": [
    "# Read the dataset"
   ]
  },
  {
   "cell_type": "code",
   "execution_count": 2,
   "metadata": {},
   "outputs": [
    {
     "data": {
      "text/html": [
       "<div>\n",
       "<style scoped>\n",
       "    .dataframe tbody tr th:only-of-type {\n",
       "        vertical-align: middle;\n",
       "    }\n",
       "\n",
       "    .dataframe tbody tr th {\n",
       "        vertical-align: top;\n",
       "    }\n",
       "\n",
       "    .dataframe thead th {\n",
       "        text-align: right;\n",
       "    }\n",
       "</style>\n",
       "<table border=\"1\" class=\"dataframe\">\n",
       "  <thead>\n",
       "    <tr style=\"text-align: right;\">\n",
       "      <th></th>\n",
       "      <th>review</th>\n",
       "      <th>label</th>\n",
       "    </tr>\n",
       "  </thead>\n",
       "  <tbody>\n",
       "    <tr>\n",
       "      <th>0</th>\n",
       "      <td>layan ramah air panas shower baik</td>\n",
       "      <td>pos</td>\n",
       "    </tr>\n",
       "    <tr>\n",
       "      <th>1</th>\n",
       "      <td>staff ramah lokasi harga mahal fasilitas minim...</td>\n",
       "      <td>pos</td>\n",
       "    </tr>\n",
       "    <tr>\n",
       "      <th>2</th>\n",
       "      <td>kamar luas staff ramah sarap enak air kamar ma...</td>\n",
       "      <td>pos</td>\n",
       "    </tr>\n",
       "    <tr>\n",
       "      <th>3</th>\n",
       "      <td>layan bagus ramah ac dingin channel tv lengkap</td>\n",
       "      <td>pos</td>\n",
       "    </tr>\n",
       "    <tr>\n",
       "      <th>4</th>\n",
       "      <td>layan kondisi kamar tolong perhati kamar mandi...</td>\n",
       "      <td>pos</td>\n",
       "    </tr>\n",
       "  </tbody>\n",
       "</table>\n",
       "</div>"
      ],
      "text/plain": [
       "                                              review label\n",
       "0                  layan ramah air panas shower baik   pos\n",
       "1  staff ramah lokasi harga mahal fasilitas minim...   pos\n",
       "2  kamar luas staff ramah sarap enak air kamar ma...   pos\n",
       "3     layan bagus ramah ac dingin channel tv lengkap   pos\n",
       "4  layan kondisi kamar tolong perhati kamar mandi...   pos"
      ]
     },
     "execution_count": 2,
     "metadata": {},
     "output_type": "execute_result"
    }
   ],
   "source": [
    "df = pd.read_csv('datasets/cleaned_datasets/cleaned-service-data.csv')\n",
    "df.head()"
   ]
  },
  {
   "cell_type": "markdown",
   "metadata": {},
   "source": [
    "# Split dataset "
   ]
  },
  {
   "cell_type": "code",
   "execution_count": 3,
   "metadata": {},
   "outputs": [
    {
     "name": "stdout",
     "output_type": "stream",
     "text": [
      "X shape: (298,)\n",
      "y shape: (298,)\n"
     ]
    }
   ],
   "source": [
    "X = df['review']\n",
    "y = df['label']\n",
    "print(\"X shape:\", X.shape)\n",
    "print(\"y shape:\", y.shape)"
   ]
  },
  {
   "cell_type": "code",
   "execution_count": 4,
   "metadata": {},
   "outputs": [
    {
     "name": "stdout",
     "output_type": "stream",
     "text": [
      "X_train shape: (238,)\n",
      "X_test shape: (60,)\n",
      "y_train shape: (238,)\n",
      "y_test shape: (60,)\n"
     ]
    }
   ],
   "source": [
    "X_train, X_test, y_train, y_test = train_test_split(df['review'], df['label'], test_size=0.2, random_state=42)\n",
    "\n",
    "# Menampilkan hasil\n",
    "print(\"X_train shape:\", X_train.shape)\n",
    "print(\"X_test shape:\", X_test.shape)\n",
    "print(\"y_train shape:\", y_train.shape)\n",
    "print(\"y_test shape:\", y_test.shape)"
   ]
  },
  {
   "cell_type": "markdown",
   "metadata": {},
   "source": [
    "# TF-IDF "
   ]
  },
  {
   "cell_type": "code",
   "execution_count": 5,
   "metadata": {},
   "outputs": [
    {
     "name": "stdout",
     "output_type": "stream",
     "text": [
      "(298, 2524)\n"
     ]
    }
   ],
   "source": [
    "# Inisialisasi objek stopword remover\n",
    "stopword_factory = StopWordRemoverFactory()\n",
    "stopwords = stopword_factory.get_stop_words()\n",
    "\n",
    "# tf_idf model\n",
    "tfidf_vectorizer = TfidfVectorizer(ngram_range=(1,2), stop_words=stopwords)\n",
    "\n",
    "# menghitung nilai tf-idf\n",
    "tfidf_matrix = tfidf_vectorizer.fit_transform(X)\n",
    "\n",
    "# Menampilkan hasil\n",
    "print(tfidf_matrix.shape)\n"
   ]
  },
  {
   "cell_type": "code",
   "execution_count": 6,
   "metadata": {},
   "outputs": [
    {
     "name": "stdout",
     "output_type": "stream",
     "text": [
      "(238, 2018)\n",
      "(60, 2018)\n"
     ]
    }
   ],
   "source": [
    "tfidf_split = TfidfVectorizer(ngram_range=(1,2), stop_words=stopwords)\n",
    "\n",
    "# menghitung nilai tf-idf\n",
    "train_tfidf_matrix = tfidf_split.fit_transform(X_train)\n",
    "test_tfidf_matrix = tfidf_split.transform(X_test)\n",
    "\n",
    "# Menampilkan hasil\n",
    "print(train_tfidf_matrix.shape)\n",
    "print(test_tfidf_matrix.shape)"
   ]
  },
  {
   "cell_type": "code",
   "execution_count": 7,
   "metadata": {},
   "outputs": [],
   "source": [
    "with open('trained_model/tfidf_service_model.pkl', 'wb') as f:\n",
    "    pickle.dump(tfidf_split, f)"
   ]
  },
  {
   "cell_type": "markdown",
   "metadata": {},
   "source": [
    "# Smote"
   ]
  },
  {
   "cell_type": "code",
   "execution_count": 8,
   "metadata": {},
   "outputs": [
    {
     "data": {
      "text/plain": [
       "label\n",
       "pos    149\n",
       "neg    149\n",
       "Name: count, dtype: int64"
      ]
     },
     "execution_count": 8,
     "metadata": {},
     "output_type": "execute_result"
    }
   ],
   "source": [
    "y.value_counts()"
   ]
  },
  {
   "cell_type": "code",
   "execution_count": 9,
   "metadata": {},
   "outputs": [
    {
     "name": "stdout",
     "output_type": "stream",
     "text": [
      "X_resampled shape: (298, 2524)\n",
      "y_resampled shape: (298,)\n"
     ]
    }
   ],
   "source": [
    "# Train\n",
    "X_resampled, y_resampled = SMOTE(random_state=42).fit_resample(tfidf_matrix, y)\n",
    "\n",
    "# Menampilkan hasil\n",
    "print(\"X_resampled shape:\", X_resampled.shape)\n",
    "print(\"y_resampled shape:\", y_resampled.shape)"
   ]
  },
  {
   "cell_type": "code",
   "execution_count": 10,
   "metadata": {},
   "outputs": [
    {
     "name": "stdout",
     "output_type": "stream",
     "text": [
      "X_train_resampled shape: (246, 2018)\n",
      "X_test_resampled shape: (68, 2018)\n",
      "y_train y_train_resampled: (246,)\n",
      "y_test_resampled shape: (68,)\n"
     ]
    }
   ],
   "source": [
    "# Train\n",
    "X_train_resampled, y_train_resampled = SMOTE(random_state=42).fit_resample(train_tfidf_matrix, y_train)\n",
    "X_test_resampled, y_test_resampled = SMOTE(random_state=42).fit_resample(test_tfidf_matrix, y_test)\n",
    "\n",
    "# Menampilkan hasil\n",
    "print(\"X_train_resampled shape:\", X_train_resampled.shape)\n",
    "print(\"X_test_resampled shape:\", X_test_resampled.shape)\n",
    "print(\"y_train y_train_resampled:\", y_train_resampled.shape)\n",
    "print(\"y_test_resampled shape:\", y_test_resampled.shape)"
   ]
  },
  {
   "cell_type": "markdown",
   "metadata": {},
   "source": [
    "# Naive Bayes"
   ]
  },
  {
   "cell_type": "code",
   "execution_count": 11,
   "metadata": {},
   "outputs": [
    {
     "name": "stdout",
     "output_type": "stream",
     "text": [
      "Grid Search Results:\n",
      "  param_alpha  mean_test_score  std_test_score  rank_test_score\n",
      "0         0.1         0.751609        0.063810                1\n",
      "2         1.0         0.731724        0.062599                2\n",
      "1         0.5         0.725057        0.056307                3\n",
      "3         1.5         0.725057        0.054442                3\n",
      "best_alpha, 0.1\n",
      "best_score, 0.7516091954022989\n"
     ]
    }
   ],
   "source": [
    "# parameter tuning\n",
    "param_grid = {'alpha': [0.1, 0.5, 1.0, 1.5]}\n",
    "grid_search = GridSearchCV(MultinomialNB(), param_grid, cv=10)\n",
    "grid_search.fit(X_resampled, y_resampled)\n",
    "\n",
    "# Mendapatkan parameter terbaik\n",
    "best_alpha = grid_search.best_params_['alpha']\n",
    "best_score = grid_search.best_score_\n",
    "cv_results = grid_search.cv_results_\n",
    "\n",
    "# Convert cv_results to DataFrame\n",
    "cv_results_df = pd.DataFrame(cv_results)\n",
    "\n",
    "# Hanya tampilkan kolom yang relevan\n",
    "relevant_columns = ['param_alpha', 'mean_test_score', 'std_test_score', 'rank_test_score']\n",
    "cv_results_df = cv_results_df[relevant_columns]\n",
    "\n",
    "# Tampilkan hasil secara terurut berdasarkan mean_test_score\n",
    "cv_results_df = cv_results_df.sort_values(by='mean_test_score', ascending=False)\n",
    "\n",
    "# Tampilkan hasil\n",
    "print(\"Grid Search Results:\")\n",
    "print(cv_results_df)\n",
    "\n",
    "print(f\"best_alpha, {best_alpha}\")\n",
    "print(f\"best_score, {best_score}\")"
   ]
  },
  {
   "cell_type": "code",
   "execution_count": 12,
   "metadata": {},
   "outputs": [
    {
     "name": "stdout",
     "output_type": "stream",
     "text": [
      "Cross-Validation Accuracy Score: 0.7485057471264368\n",
      "Cross-Validation Precision Score: 0.7675517025529304\n",
      "Cross-Validation Recall Score: 0.7485057471264368\n",
      "Cross-Validation F1 Score: 0.7450296634667857\n"
     ]
    }
   ],
   "source": [
    "nb = MultinomialNB(alpha=best_alpha)\n",
    "k_fold = KFold(n_splits=10, shuffle=True, random_state=42)\n",
    "\n",
    "accuracy_scores = cross_val_score(nb, X_resampled, y_resampled, cv=k_fold, scoring='accuracy')\n",
    "precision_scores = cross_val_score(nb, X_resampled, y_resampled, cv=k_fold, scoring='precision_weighted')\n",
    "recall_scores = cross_val_score(nb, X_resampled, y_resampled, cv=k_fold, scoring='recall_weighted')\n",
    "f1_scores = cross_val_score(nb, X_resampled, y_resampled, cv=k_fold, scoring='f1_weighted')\n",
    "\n",
    "print('Cross-Validation Accuracy Score:', accuracy_scores.mean())\n",
    "print('Cross-Validation Precision Score:', precision_scores.mean())\n",
    "print('Cross-Validation Recall Score:', recall_scores.mean())\n",
    "print('Cross-Validation F1 Score:', f1_scores.mean())"
   ]
  },
  {
   "cell_type": "code",
   "execution_count": 13,
   "metadata": {},
   "outputs": [
    {
     "name": "stdout",
     "output_type": "stream",
     "text": [
      "Accuracy score :  0.6323529411764706\n",
      "Precision score :  0.6423255813953488\n",
      "Recall score :  0.6323529411764706\n",
      "F1 score :  0.6257979308826767\n"
     ]
    }
   ],
   "source": [
    "nb = MultinomialNB(alpha=best_alpha)\n",
    "nb.fit(X_train_resampled, y_train_resampled)\n",
    "\n",
    "y_pred = nb.predict(X_test_resampled)\n",
    "\n",
    "print('Accuracy score : ', accuracy_score(y_test_resampled, y_pred))\n",
    "print('Precision score : ', precision_score(y_test_resampled, y_pred, average='weighted'))\n",
    "print('Recall score : ', recall_score(y_test_resampled, y_pred, average='weighted'))\n",
    "print('F1 score : ', f1_score(y_test_resampled, y_pred, average='weighted'))"
   ]
  },
  {
   "cell_type": "code",
   "execution_count": 14,
   "metadata": {},
   "outputs": [
    {
     "data": {
      "image/png": "[encoded data removed]",
      "text/plain": [
       "<Figure size 640x480 with 2 Axes>"
      ]
     },
     "metadata": {},
     "output_type": "display_data"
    }
   ],
   "source": [
    "ConfusionMatrixDisplay.from_predictions(y_test_resampled, y_pred, cmap='Blues')\n",
    "plt.show()"
   ]
  },
  {
   "cell_type": "code",
   "execution_count": 15,
   "metadata": {},
   "outputs": [
    {
     "name": "stdout",
     "output_type": "stream",
     "text": [
      "              precision    recall  f1-score   support\n",
      "\n",
      "         neg       0.68      0.50      0.58        34\n",
      "         pos       0.60      0.76      0.68        34\n",
      "\n",
      "    accuracy                           0.63        68\n",
      "   macro avg       0.64      0.63      0.63        68\n",
      "weighted avg       0.64      0.63      0.63        68\n",
      "\n"
     ]
    }
   ],
   "source": [
    "print(classification_report(y_test_resampled, y_pred))"
   ]
  },
  {
   "cell_type": "code",
   "execution_count": 16,
   "metadata": {},
   "outputs": [],
   "source": [
    "with open('trained_model/nb_classifier_service.pkl', 'wb') as f:\n",
    "    pickle.dump(nb, f)"
   ]
  }
 ],
 "metadata": {
  "kernelspec": {
   "display_name": "Python 3",
   "language": "python",
   "name": "python3"
  },
  "language_info": {
   "codemirror_mode": {
    "name": "ipython",
    "version": 3
   },
   "file_extension": ".py",
   "mimetype": "text/x-python",
   "name": "python",
   "nbconvert_exporter": "python",
   "pygments_lexer": "ipython3",
   "version": "3.12.1"
  }
 },
 "nbformat": 4,
 "nbformat_minor": 2
}
