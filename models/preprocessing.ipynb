{
 "cells": [
  {
   "cell_type": "markdown",
   "metadata": {},
   "source": [
    "# Libraries"
   ]
  },
  {
   "cell_type": "code",
   "execution_count": 70,
   "metadata": {},
   "outputs": [
    {
     "name": "stdout",
     "output_type": "stream",
     "text": [
      "Completed\n"
     ]
    },
    {
     "name": "stderr",
     "output_type": "stream",
     "text": [
      "[nltk_data] Downloading package stopwords to\n",
      "[nltk_data]     C:\\Users\\TrisnaWahyudi\\AppData\\Roaming\\nltk_data...\n",
      "[nltk_data]   Package stopwords is already up-to-date!\n",
      "[nltk_data] Downloading package punkt to\n",
      "[nltk_data]     C:\\Users\\TrisnaWahyudi\\AppData\\Roaming\\nltk_data...\n",
      "[nltk_data]   Package punkt is already up-to-date!\n",
      "[nltk_data] Downloading package stopwords to\n",
      "[nltk_data]     C:\\Users\\TrisnaWahyudi\\AppData\\Roaming\\nltk_data...\n",
      "[nltk_data]   Package stopwords is already up-to-date!\n",
      "[nltk_data] Downloading package wordnet to\n",
      "[nltk_data]     C:\\Users\\TrisnaWahyudi\\AppData\\Roaming\\nltk_data...\n",
      "[nltk_data]   Package wordnet is already up-to-date!\n",
      "[nltk_data] Downloading package omw-1.4 to\n",
      "[nltk_data]     C:\\Users\\TrisnaWahyudi\\AppData\\Roaming\\nltk_data...\n",
      "[nltk_data]   Package omw-1.4 is already up-to-date!\n"
     ]
    }
   ],
   "source": [
    "import nltk\n",
    "import pandas as pd\n",
    "import matplotlib.pyplot as plt \n",
    "import numpy as np\n",
    "from wordcloud import WordCloud\n",
    "import re\n",
    "import string\n",
    "from Sastrawi.Stemmer.StemmerFactory import StemmerFactory\n",
    "from tqdm import tqdm\n",
    "import nltk\n",
    "\n",
    "nltk.download('stopwords')\n",
    "from nltk.corpus import stopwords\n",
    "\n",
    "# Tokenizing\n",
    "nltk.download('punkt')\n",
    "# Stopwords removal\n",
    "nltk.download('stopwords')\n",
    "# Lemmatizer\n",
    "nltk.download('wordnet')\n",
    "nltk.download('omw-1.4')\n",
    "\n",
    "print('Completed')"
   ]
  },
  {
   "cell_type": "code",
   "execution_count": 71,
   "metadata": {},
   "outputs": [
    {
     "data": {
      "text/html": [
       "<div>\n",
       "<style scoped>\n",
       "    .dataframe tbody tr th:only-of-type {\n",
       "        vertical-align: middle;\n",
       "    }\n",
       "\n",
       "    .dataframe tbody tr th {\n",
       "        vertical-align: top;\n",
       "    }\n",
       "\n",
       "    .dataframe thead th {\n",
       "        text-align: right;\n",
       "    }\n",
       "</style>\n",
       "<table border=\"1\" class=\"dataframe\">\n",
       "  <thead>\n",
       "    <tr style=\"text-align: right;\">\n",
       "      <th></th>\n",
       "      <th>slang</th>\n",
       "      <th>formal</th>\n",
       "      <th>In-dictionary</th>\n",
       "      <th>context</th>\n",
       "      <th>category1</th>\n",
       "      <th>category2</th>\n",
       "      <th>category3</th>\n",
       "    </tr>\n",
       "  </thead>\n",
       "  <tbody>\n",
       "    <tr>\n",
       "      <th>0</th>\n",
       "      <td>woww</td>\n",
       "      <td>wow</td>\n",
       "      <td>1</td>\n",
       "      <td>wow</td>\n",
       "      <td>elongasi</td>\n",
       "      <td>0</td>\n",
       "      <td>0</td>\n",
       "    </tr>\n",
       "    <tr>\n",
       "      <th>1</th>\n",
       "      <td>aminn</td>\n",
       "      <td>amin</td>\n",
       "      <td>1</td>\n",
       "      <td>Selamat ulang tahun kakak tulus semoga panjang...</td>\n",
       "      <td>elongasi</td>\n",
       "      <td>0</td>\n",
       "      <td>0</td>\n",
       "    </tr>\n",
       "    <tr>\n",
       "      <th>2</th>\n",
       "      <td>met</td>\n",
       "      <td>selamat</td>\n",
       "      <td>1</td>\n",
       "      <td>Met hari netaas kak!? Wish you all the best @t...</td>\n",
       "      <td>abreviasi</td>\n",
       "      <td>0</td>\n",
       "      <td>0</td>\n",
       "    </tr>\n",
       "    <tr>\n",
       "      <th>3</th>\n",
       "      <td>netaas</td>\n",
       "      <td>menetas</td>\n",
       "      <td>1</td>\n",
       "      <td>Met hari netaas kak!? Wish you all the best @t...</td>\n",
       "      <td>afiksasi</td>\n",
       "      <td>elongasi</td>\n",
       "      <td>0</td>\n",
       "    </tr>\n",
       "    <tr>\n",
       "      <th>4</th>\n",
       "      <td>keberpa</td>\n",
       "      <td>keberapa</td>\n",
       "      <td>0</td>\n",
       "      <td>Birthday yg keberpa kak?</td>\n",
       "      <td>abreviasi</td>\n",
       "      <td>0</td>\n",
       "      <td>0</td>\n",
       "    </tr>\n",
       "  </tbody>\n",
       "</table>\n",
       "</div>"
      ],
      "text/plain": [
       "     slang    formal  In-dictionary  \\\n",
       "0     woww       wow              1   \n",
       "1    aminn      amin              1   \n",
       "2      met   selamat              1   \n",
       "3   netaas   menetas              1   \n",
       "4  keberpa  keberapa              0   \n",
       "\n",
       "                                             context  category1 category2  \\\n",
       "0                                                wow   elongasi         0   \n",
       "1  Selamat ulang tahun kakak tulus semoga panjang...   elongasi         0   \n",
       "2  Met hari netaas kak!? Wish you all the best @t...  abreviasi         0   \n",
       "3  Met hari netaas kak!? Wish you all the best @t...   afiksasi  elongasi   \n",
       "4                           Birthday yg keberpa kak?  abreviasi         0   \n",
       "\n",
       "  category3  \n",
       "0         0  \n",
       "1         0  \n",
       "2         0  \n",
       "3         0  \n",
       "4         0  "
      ]
     },
     "execution_count": 71,
     "metadata": {},
     "output_type": "execute_result"
    }
   ],
   "source": [
    "# get slang word data from github\n",
    "indo_slang_word = pd.read_csv('datasets/utils/indo_slang_word.csv')\n",
    "indo_slang_word.head()"
   ]
  },
  {
   "cell_type": "markdown",
   "metadata": {},
   "source": [
    "# Preprocessing methods"
   ]
  },
  {
   "cell_type": "markdown",
   "metadata": {},
   "source": [
    "## Cleaning\n"
   ]
  },
  {
   "cell_type": "code",
   "execution_count": 72,
   "metadata": {},
   "outputs": [],
   "source": [
    "def cleaning(text):\n",
    "    # Case folding\n",
    "    text = text.lower()\n",
    "    # Trim text\n",
    "    text = text.strip()\n",
    "    # Remove punctuations, special characters, and double whitespace\n",
    "    text = re.compile('<.*?>').sub('', text)\n",
    "    text = re.compile('[%s]' % re.escape(string.punctuation)).sub(' ', text)\n",
    "    text = re.sub('\\\\s+', ' ', text)  # Corrected line\n",
    "    # Number removal\n",
    "    text = re.sub(r'\\[[0-9]*\\]', ' ', text)\n",
    "    text = re.sub(r'[^\\w\\s]', '', str(text).lower().strip())\n",
    "    # Remove number and whitespaces\n",
    "    text = re.sub(r'\\d', ' ', text)\n",
    "    text = re.sub(r'\\s+', ' ', text)\n",
    "\n",
    "    return text"
   ]
  },
  {
   "cell_type": "code",
   "execution_count": 73,
   "metadata": {},
   "outputs": [
    {
     "name": "stdout",
     "output_type": "stream",
     "text": [
      "Original Sentence: Pelayan tidak ramah dan Tidak bersahabat.\n",
      "Modified Sentence: pelayan tidak ramah dan tidak bersahabat\n"
     ]
    }
   ],
   "source": [
    "# Contoh penggunaan\n",
    "original_sentence = \"Pelayan tidak ramah dan Tidak bersahabat.\"\n",
    "modified_sentence = cleaning(original_sentence)\n",
    "\n",
    "print(\"Original Sentence:\", original_sentence)\n",
    "print(\"Modified Sentence:\", modified_sentence)"
   ]
  },
  {
   "cell_type": "markdown",
   "metadata": {},
   "source": [
    "## Negation Handling"
   ]
  },
  {
   "cell_type": "code",
   "execution_count": 74,
   "metadata": {},
   "outputs": [],
   "source": [
    "def handle_negation(review):\n",
    "    # Membuat pola regular expression untuk menemukan kata \"tidak\" dan kata-kata setelahnya\n",
    "    negation_pattern = re.compile(r'\\btidak\\b\\s+(\\w+)')\n",
    "\n",
    "    # Menggabungkan kata-kata setelah kata \"tidak\" dengan tanda garis bawah\n",
    "    modified_review = negation_pattern.sub(lambda match: 'tidak' + match.group(1), review)\n",
    "\n",
    "    return modified_review"
   ]
  },
  {
   "cell_type": "code",
   "execution_count": 75,
   "metadata": {},
   "outputs": [
    {
     "name": "stdout",
     "output_type": "stream",
     "text": [
      "Original Sentence: pelayan tidak ramah dan tidak bersahabat\n",
      "Modified Sentence: pelayan tidakramah dan tidakbersahabat\n"
     ]
    }
   ],
   "source": [
    "# Contoh penggunaan\n",
    "print(\"Original Sentence:\", modified_sentence)\n",
    "modified_sentence = handle_negation(modified_sentence)\n",
    "\n",
    "print(\"Modified Sentence:\", modified_sentence)"
   ]
  },
  {
   "cell_type": "markdown",
   "metadata": {},
   "source": [
    "## Tokenization"
   ]
  },
  {
   "cell_type": "code",
   "execution_count": 76,
   "metadata": {},
   "outputs": [],
   "source": [
    "from nltk.tokenize import word_tokenize"
   ]
  },
  {
   "cell_type": "code",
   "execution_count": 77,
   "metadata": {},
   "outputs": [
    {
     "name": "stdout",
     "output_type": "stream",
     "text": [
      "Original Sentence: pelayan tidakramah dan tidakbersahabat\n",
      "Modified Sentence: ['pelayan', 'tidakramah', 'dan', 'tidakbersahabat']\n"
     ]
    }
   ],
   "source": [
    "# Contoh penggunaan\n",
    "print(\"Original Sentence:\", modified_sentence)\n",
    "modified_sentence = word_tokenize(modified_sentence)\n",
    "\n",
    "print(\"Modified Sentence:\", modified_sentence)"
   ]
  },
  {
   "cell_type": "markdown",
   "metadata": {},
   "source": [
    "## Word Normalization"
   ]
  },
  {
   "cell_type": "code",
   "execution_count": 78,
   "metadata": {},
   "outputs": [],
   "source": [
    "def replace_slang_word(doc,slang_word):\n",
    "    for index in range(0,len(doc)-1):\n",
    "        index_slang = slang_word.slang==doc[index]\n",
    "        formal = list(set(slang_word[index_slang].formal))\n",
    "        if len(formal)==1:\n",
    "            doc[index]=formal[0]\n",
    "    return doc"
   ]
  },
  {
   "cell_type": "code",
   "execution_count": 79,
   "metadata": {},
   "outputs": [
    {
     "name": "stdout",
     "output_type": "stream",
     "text": [
      "Original Sentence: ['pelayan', 'tidakramah', 'dan', 'tidakbersahabat']\n",
      "Modified Sentence: ['pelayan', 'tidakramah', 'dan', 'tidakbersahabat']\n"
     ]
    }
   ],
   "source": [
    "# Contoh penggunaan\n",
    "print(\"Original Sentence:\", modified_sentence)\n",
    "modified_sentence = replace_slang_word(modified_sentence, indo_slang_word)\n",
    "\n",
    "print(\"Modified Sentence:\", modified_sentence)"
   ]
  },
  {
   "cell_type": "markdown",
   "metadata": {},
   "source": [
    "## Stopword removal"
   ]
  },
  {
   "cell_type": "code",
   "execution_count": 80,
   "metadata": {},
   "outputs": [],
   "source": [
    "filtering = stopwords.words('indonesian')\n",
    "def stopword_removal(review):\n",
    "\n",
    "    x = []\n",
    "    data = []\n",
    "    def myFunc(x):\n",
    "      if x in filtering:\n",
    "        return False\n",
    "      else:\n",
    "        return True\n",
    "\n",
    "    fit = filter(myFunc, review)\n",
    "    for x in fit:\n",
    "      data.append(x)\n",
    "\n",
    "    return data"
   ]
  },
  {
   "cell_type": "code",
   "execution_count": 81,
   "metadata": {},
   "outputs": [
    {
     "name": "stdout",
     "output_type": "stream",
     "text": [
      "Original Sentence: ['pelayan', 'tidakramah', 'dan', 'tidakbersahabat']\n",
      "Modified Sentence: ['pelayan', 'tidakramah', 'tidakbersahabat']\n"
     ]
    }
   ],
   "source": [
    "# Contoh penggunaan\n",
    "print(\"Original Sentence:\", modified_sentence)\n",
    "modified_sentence = stopword_removal(modified_sentence)\n",
    "\n",
    "print(\"Modified Sentence:\", modified_sentence)"
   ]
  },
  {
   "cell_type": "markdown",
   "metadata": {},
   "source": [
    "## Stemming"
   ]
  },
  {
   "cell_type": "code",
   "execution_count": 82,
   "metadata": {},
   "outputs": [],
   "source": [
    "factory = StemmerFactory()\n",
    "stemmer = factory.create_stemmer()"
   ]
  },
  {
   "cell_type": "code",
   "execution_count": 83,
   "metadata": {},
   "outputs": [
    {
     "name": "stdout",
     "output_type": "stream",
     "text": [
      "Original Sentence: ['pelayan', 'tidakramah', 'tidakbersahabat']\n",
      "Modified Sentence: ['layan', 'tidakramah', 'tidakbersahabat']\n"
     ]
    }
   ],
   "source": [
    "# Contoh penggunaan\n",
    "print(\"Original Sentence:\", modified_sentence)\n",
    "modified_sentence = [stemmer.stem(word) for word in modified_sentence]\n",
    "\n",
    "print(\"Modified Sentence:\", modified_sentence)"
   ]
  },
  {
   "cell_type": "markdown",
   "metadata": {},
   "source": [
    "## Preprocessor"
   ]
  },
  {
   "cell_type": "code",
   "execution_count": 84,
   "metadata": {},
   "outputs": [],
   "source": [
    "def data_preprocessor(data, label):\n",
    "  tqdm.pandas(desc=\"Proses Cleaning\")\n",
    "  data['review'] = data['review'].progress_apply(lambda x: cleaning(x))\n",
    "  \n",
    "  tqdm.pandas(desc=\"Proses Negation Handling\")\n",
    "  data['review'] = data['review'].progress_apply(lambda x: handle_negation(x))\n",
    "  \n",
    "  tqdm.pandas(desc=\"Proses Tokenizing\")\n",
    "  data['review'] = data['review'].progress_apply(lambda x: word_tokenize(x))\n",
    "  \n",
    "  tqdm.pandas(desc=\"Proses Word Normalizing\")\n",
    "  data['review'] = data['review'].progress_apply(lambda x: replace_slang_word(x, indo_slang_word))\n",
    "  \n",
    "  tqdm.pandas(desc=\"Proses Stopword Removal\")\n",
    "  data['review'] = data['review'].progress_apply(stopword_removal)\n",
    "  \n",
    "  tqdm.pandas(desc=\"Proses Stemming\")\n",
    "  data['review'] = data['review'].progress_apply(lambda x: [stemmer.stem(word) for word in x])\n",
    "  data[\"review\"] = data[\"review\"].apply(' '.join)\n",
    "  \n",
    "  # drop unused coloumns\n",
    "  data['label'] = data[label]\n",
    "  data = data.drop([\"kebersihan\", \"linen\", \"service\", \"Gabungan\", \"aspek\"], axis=1)\n",
    "  \n",
    "  return data"
   ]
  },
  {
   "cell_type": "markdown",
   "metadata": {},
   "source": [
    "# Datasets Preprocessing"
   ]
  },
  {
   "cell_type": "code",
   "execution_count": 85,
   "metadata": {},
   "outputs": [
    {
     "data": {
      "text/html": [
       "<div>\n",
       "<style scoped>\n",
       "    .dataframe tbody tr th:only-of-type {\n",
       "        vertical-align: middle;\n",
       "    }\n",
       "\n",
       "    .dataframe tbody tr th {\n",
       "        vertical-align: top;\n",
       "    }\n",
       "\n",
       "    .dataframe thead th {\n",
       "        text-align: right;\n",
       "    }\n",
       "</style>\n",
       "<table border=\"1\" class=\"dataframe\">\n",
       "  <thead>\n",
       "    <tr style=\"text-align: right;\">\n",
       "      <th></th>\n",
       "      <th>review</th>\n",
       "      <th>kebersihan</th>\n",
       "      <th>linen</th>\n",
       "      <th>service</th>\n",
       "      <th>Gabungan</th>\n",
       "      <th>aspek</th>\n",
       "    </tr>\n",
       "  </thead>\n",
       "  <tbody>\n",
       "    <tr>\n",
       "      <th>0</th>\n",
       "      <td>Tempat nyaman bersih tapi tv terlalu tinggi ti...</td>\n",
       "      <td>pos</td>\n",
       "      <td>neut</td>\n",
       "      <td>neut</td>\n",
       "      <td>posneutneut</td>\n",
       "      <td>kebersihan</td>\n",
       "    </tr>\n",
       "    <tr>\n",
       "      <th>1</th>\n",
       "      <td>hotelnya bersih dan nyaman, tp keyika masuk ka...</td>\n",
       "      <td>pos</td>\n",
       "      <td>neut</td>\n",
       "      <td>neut</td>\n",
       "      <td>posneutneut</td>\n",
       "      <td>kebersihan</td>\n",
       "    </tr>\n",
       "    <tr>\n",
       "      <th>2</th>\n",
       "      <td>Bersih,nyaman &amp; asri. Cuma syg prnh airnya mat...</td>\n",
       "      <td>pos</td>\n",
       "      <td>neut</td>\n",
       "      <td>neut</td>\n",
       "      <td>posneutneut</td>\n",
       "      <td>kebersihan</td>\n",
       "    </tr>\n",
       "    <tr>\n",
       "      <th>3</th>\n",
       "      <td>Kamar bersih dan nyaman, sarapan minimalis, cu...</td>\n",
       "      <td>pos</td>\n",
       "      <td>neut</td>\n",
       "      <td>neut</td>\n",
       "      <td>posneutneut</td>\n",
       "      <td>kebersihan</td>\n",
       "    </tr>\n",
       "    <tr>\n",
       "      <th>4</th>\n",
       "      <td>bersih tempatnya. saya suka. cuma air panasnya...</td>\n",
       "      <td>pos</td>\n",
       "      <td>neut</td>\n",
       "      <td>neut</td>\n",
       "      <td>posneutneut</td>\n",
       "      <td>kebersihan</td>\n",
       "    </tr>\n",
       "  </tbody>\n",
       "</table>\n",
       "</div>"
      ],
      "text/plain": [
       "                                              review kebersihan linen service  \\\n",
       "0  Tempat nyaman bersih tapi tv terlalu tinggi ti...        pos  neut    neut   \n",
       "1  hotelnya bersih dan nyaman, tp keyika masuk ka...        pos  neut    neut   \n",
       "2  Bersih,nyaman & asri. Cuma syg prnh airnya mat...        pos  neut    neut   \n",
       "3  Kamar bersih dan nyaman, sarapan minimalis, cu...        pos  neut    neut   \n",
       "4  bersih tempatnya. saya suka. cuma air panasnya...        pos  neut    neut   \n",
       "\n",
       "      Gabungan       aspek  \n",
       "0  posneutneut  kebersihan  \n",
       "1  posneutneut  kebersihan  \n",
       "2  posneutneut  kebersihan  \n",
       "3  posneutneut  kebersihan  \n",
       "4  posneutneut  kebersihan  "
      ]
     },
     "execution_count": 85,
     "metadata": {},
     "output_type": "execute_result"
    }
   ],
   "source": [
    "kebersihan_positive = pd.read_csv('datasets/kebersihan-positive.csv')\n",
    "kebersihan_negative = pd.read_csv('datasets/kebersihan-negative.csv')\n",
    "\n",
    "service_positive = pd.read_csv('datasets/service-positive.csv')\n",
    "service_negative = pd.read_csv('datasets/service-negative.csv')\n",
    "\n",
    "linen_positive = pd.read_csv('datasets/linen-positive.csv')\n",
    "linen_negative = pd.read_csv('datasets/linen-negative.csv')\n",
    "\n",
    "\n",
    "# Combine dataframes\n",
    "kebersihan_combined = pd.concat([kebersihan_positive, kebersihan_negative])\n",
    "service_combined = pd.concat([service_positive, service_negative])\n",
    "linen_combined = pd.concat([linen_positive, linen_negative])\n",
    "\n",
    "# aspect labeling\n",
    "kebersihan_combined['aspek'] = 'kebersihan'\n",
    "service_combined['aspek'] =  'service'\n",
    "linen_combined['aspek'] =  'linen'\n",
    "\n",
    "# Combine all dataframes\n",
    "all_data = pd.concat([kebersihan_combined, service_combined, linen_combined])\n",
    "\n",
    "all_data.head()"
   ]
  },
  {
   "cell_type": "code",
   "execution_count": 86,
   "metadata": {},
   "outputs": [],
   "source": [
    "# save combined dataset as new csv file\n",
    "all_data.to_csv('datasets/hotel-review.csv', index=False)"
   ]
  },
  {
   "cell_type": "markdown",
   "metadata": {},
   "source": [
    "## Clustering Datasets"
   ]
  },
  {
   "cell_type": "code",
   "execution_count": 87,
   "metadata": {},
   "outputs": [
    {
     "data": {
      "text/html": [
       "<div>\n",
       "<style scoped>\n",
       "    .dataframe tbody tr th:only-of-type {\n",
       "        vertical-align: middle;\n",
       "    }\n",
       "\n",
       "    .dataframe tbody tr th {\n",
       "        vertical-align: top;\n",
       "    }\n",
       "\n",
       "    .dataframe thead th {\n",
       "        text-align: right;\n",
       "    }\n",
       "</style>\n",
       "<table border=\"1\" class=\"dataframe\">\n",
       "  <thead>\n",
       "    <tr style=\"text-align: right;\">\n",
       "      <th></th>\n",
       "      <th>review</th>\n",
       "      <th>kebersihan</th>\n",
       "      <th>linen</th>\n",
       "      <th>service</th>\n",
       "      <th>Gabungan</th>\n",
       "      <th>aspek</th>\n",
       "    </tr>\n",
       "  </thead>\n",
       "  <tbody>\n",
       "    <tr>\n",
       "      <th>0</th>\n",
       "      <td>Tempat nyaman bersih tapi tv terlalu tinggi ti...</td>\n",
       "      <td>pos</td>\n",
       "      <td>neut</td>\n",
       "      <td>neut</td>\n",
       "      <td>posneutneut</td>\n",
       "      <td>kebersihan</td>\n",
       "    </tr>\n",
       "    <tr>\n",
       "      <th>1</th>\n",
       "      <td>hotelnya bersih dan nyaman, tp keyika masuk ka...</td>\n",
       "      <td>pos</td>\n",
       "      <td>neut</td>\n",
       "      <td>neut</td>\n",
       "      <td>posneutneut</td>\n",
       "      <td>kebersihan</td>\n",
       "    </tr>\n",
       "    <tr>\n",
       "      <th>2</th>\n",
       "      <td>Bersih,nyaman &amp; asri. Cuma syg prnh airnya mat...</td>\n",
       "      <td>pos</td>\n",
       "      <td>neut</td>\n",
       "      <td>neut</td>\n",
       "      <td>posneutneut</td>\n",
       "      <td>kebersihan</td>\n",
       "    </tr>\n",
       "    <tr>\n",
       "      <th>3</th>\n",
       "      <td>Kamar bersih dan nyaman, sarapan minimalis, cu...</td>\n",
       "      <td>pos</td>\n",
       "      <td>neut</td>\n",
       "      <td>neut</td>\n",
       "      <td>posneutneut</td>\n",
       "      <td>kebersihan</td>\n",
       "    </tr>\n",
       "    <tr>\n",
       "      <th>4</th>\n",
       "      <td>bersih tempatnya. saya suka. cuma air panasnya...</td>\n",
       "      <td>pos</td>\n",
       "      <td>neut</td>\n",
       "      <td>neut</td>\n",
       "      <td>posneutneut</td>\n",
       "      <td>kebersihan</td>\n",
       "    </tr>\n",
       "    <tr>\n",
       "      <th>5</th>\n",
       "      <td>Bersih, nyaman, tapi WiFi lola banget</td>\n",
       "      <td>pos</td>\n",
       "      <td>neut</td>\n",
       "      <td>neut</td>\n",
       "      <td>posneutneut</td>\n",
       "      <td>kebersihan</td>\n",
       "    </tr>\n",
       "    <tr>\n",
       "      <th>6</th>\n",
       "      <td>Kamar bagus,rapi,bersih dan wangi tapi sayang ...</td>\n",
       "      <td>pos</td>\n",
       "      <td>neut</td>\n",
       "      <td>neut</td>\n",
       "      <td>posneutneut</td>\n",
       "      <td>kebersihan</td>\n",
       "    </tr>\n",
       "    <tr>\n",
       "      <th>7</th>\n",
       "      <td>bersih, kamar yg nyaman to kurang 1 yaitu WiFi...</td>\n",
       "      <td>pos</td>\n",
       "      <td>neut</td>\n",
       "      <td>neut</td>\n",
       "      <td>posneutneut</td>\n",
       "      <td>kebersihan</td>\n",
       "    </tr>\n",
       "    <tr>\n",
       "      <th>8</th>\n",
       "      <td>kamar bersih namun air panas tidak teesedia</td>\n",
       "      <td>pos</td>\n",
       "      <td>neut</td>\n",
       "      <td>neut</td>\n",
       "      <td>posneutneut</td>\n",
       "      <td>kebersihan</td>\n",
       "    </tr>\n",
       "    <tr>\n",
       "      <th>9</th>\n",
       "      <td>haha..keliatan kolam renang besar,gk tau buat ...</td>\n",
       "      <td>pos</td>\n",
       "      <td>neut</td>\n",
       "      <td>neut</td>\n",
       "      <td>posneutneut</td>\n",
       "      <td>kebersihan</td>\n",
       "    </tr>\n",
       "  </tbody>\n",
       "</table>\n",
       "</div>"
      ],
      "text/plain": [
       "                                              review kebersihan linen service  \\\n",
       "0  Tempat nyaman bersih tapi tv terlalu tinggi ti...        pos  neut    neut   \n",
       "1  hotelnya bersih dan nyaman, tp keyika masuk ka...        pos  neut    neut   \n",
       "2  Bersih,nyaman & asri. Cuma syg prnh airnya mat...        pos  neut    neut   \n",
       "3  Kamar bersih dan nyaman, sarapan minimalis, cu...        pos  neut    neut   \n",
       "4  bersih tempatnya. saya suka. cuma air panasnya...        pos  neut    neut   \n",
       "5             Bersih, nyaman, tapi WiFi lola banget         pos  neut    neut   \n",
       "6  Kamar bagus,rapi,bersih dan wangi tapi sayang ...        pos  neut    neut   \n",
       "7  bersih, kamar yg nyaman to kurang 1 yaitu WiFi...        pos  neut    neut   \n",
       "8        kamar bersih namun air panas tidak teesedia        pos  neut    neut   \n",
       "9  haha..keliatan kolam renang besar,gk tau buat ...        pos  neut    neut   \n",
       "\n",
       "      Gabungan       aspek  \n",
       "0  posneutneut  kebersihan  \n",
       "1  posneutneut  kebersihan  \n",
       "2  posneutneut  kebersihan  \n",
       "3  posneutneut  kebersihan  \n",
       "4  posneutneut  kebersihan  \n",
       "5  posneutneut  kebersihan  \n",
       "6  posneutneut  kebersihan  \n",
       "7  posneutneut  kebersihan  \n",
       "8  posneutneut  kebersihan  \n",
       "9  posneutneut  kebersihan  "
      ]
     },
     "execution_count": 87,
     "metadata": {},
     "output_type": "execute_result"
    }
   ],
   "source": [
    "df = pd.read_csv('datasets/hotel-review.csv')\n",
    "df.head(10)"
   ]
  },
  {
   "cell_type": "code",
   "execution_count": 88,
   "metadata": {},
   "outputs": [
    {
     "name": "stderr",
     "output_type": "stream",
     "text": [
      "Proses Cleaning: 100%|██████████| 894/894 [00:00<00:00, 50913.22it/s]\n",
      "Proses Negation Handling: 100%|██████████| 894/894 [00:00<00:00, 297879.55it/s]\n",
      "Proses Tokenizing: 100%|██████████| 894/894 [00:00<00:00, 16829.17it/s]\n",
      "Proses Word Normalizing:   3%|▎         | 26/894 [00:00<00:22, 38.22it/s]"
     ]
    },
    {
     "name": "stderr",
     "output_type": "stream",
     "text": [
      "Proses Word Normalizing: 100%|██████████| 894/894 [00:10<00:00, 85.60it/s] \n",
      "Proses Stopword Removal: 100%|██████████| 894/894 [00:00<00:00, 16532.23it/s]\n",
      "Proses Stemming: 100%|██████████| 894/894 [00:40<00:00, 22.07it/s] \n"
     ]
    },
    {
     "data": {
      "text/html": [
       "<div>\n",
       "<style scoped>\n",
       "    .dataframe tbody tr th:only-of-type {\n",
       "        vertical-align: middle;\n",
       "    }\n",
       "\n",
       "    .dataframe tbody tr th {\n",
       "        vertical-align: top;\n",
       "    }\n",
       "\n",
       "    .dataframe thead th {\n",
       "        text-align: right;\n",
       "    }\n",
       "</style>\n",
       "<table border=\"1\" class=\"dataframe\">\n",
       "  <thead>\n",
       "    <tr style=\"text-align: right;\">\n",
       "      <th></th>\n",
       "      <th>review</th>\n",
       "      <th>label</th>\n",
       "    </tr>\n",
       "  </thead>\n",
       "  <tbody>\n",
       "    <tr>\n",
       "      <th>0</th>\n",
       "      <td>nyaman bersih tv tidakbisa lihat</td>\n",
       "      <td>kebersihan</td>\n",
       "    </tr>\n",
       "    <tr>\n",
       "      <th>1</th>\n",
       "      <td>hotel bersih nyaman keyika masuk kamar bau bek...</td>\n",
       "      <td>kebersihan</td>\n",
       "    </tr>\n",
       "    <tr>\n",
       "      <th>2</th>\n",
       "      <td>bersih nyaman asri sayang air mati lokasi bkn ...</td>\n",
       "      <td>kebersihan</td>\n",
       "    </tr>\n",
       "    <tr>\n",
       "      <th>3</th>\n",
       "      <td>kamar bersih nyaman sarap minimal menu air pan...</td>\n",
       "      <td>kebersihan</td>\n",
       "    </tr>\n",
       "    <tr>\n",
       "      <th>4</th>\n",
       "      <td>bersih tempat suka air panas macet kmrn</td>\n",
       "      <td>kebersihan</td>\n",
       "    </tr>\n",
       "  </tbody>\n",
       "</table>\n",
       "</div>"
      ],
      "text/plain": [
       "                                              review       label\n",
       "0                   nyaman bersih tv tidakbisa lihat  kebersihan\n",
       "1  hotel bersih nyaman keyika masuk kamar bau bek...  kebersihan\n",
       "2  bersih nyaman asri sayang air mati lokasi bkn ...  kebersihan\n",
       "3  kamar bersih nyaman sarap minimal menu air pan...  kebersihan\n",
       "4            bersih tempat suka air panas macet kmrn  kebersihan"
      ]
     },
     "execution_count": 88,
     "metadata": {},
     "output_type": "execute_result"
    }
   ],
   "source": [
    "df_clean = data_preprocessor(df, 'aspek')\n",
    "df_clean.head()"
   ]
  },
  {
   "cell_type": "code",
   "execution_count": 89,
   "metadata": {},
   "outputs": [],
   "source": [
    "# save data to csv file\n",
    "df_clean.to_csv('datasets/cleaned_datasets/clean_clustering_dataset.csv', index=False)"
   ]
  },
  {
   "cell_type": "markdown",
   "metadata": {},
   "source": [
    "## Aspek Kebersihan"
   ]
  },
  {
   "cell_type": "code",
   "execution_count": 90,
   "metadata": {},
   "outputs": [
    {
     "data": {
      "text/html": [
       "<div>\n",
       "<style scoped>\n",
       "    .dataframe tbody tr th:only-of-type {\n",
       "        vertical-align: middle;\n",
       "    }\n",
       "\n",
       "    .dataframe tbody tr th {\n",
       "        vertical-align: top;\n",
       "    }\n",
       "\n",
       "    .dataframe thead th {\n",
       "        text-align: right;\n",
       "    }\n",
       "</style>\n",
       "<table border=\"1\" class=\"dataframe\">\n",
       "  <thead>\n",
       "    <tr style=\"text-align: right;\">\n",
       "      <th></th>\n",
       "      <th>review</th>\n",
       "      <th>kebersihan</th>\n",
       "      <th>linen</th>\n",
       "      <th>service</th>\n",
       "      <th>Gabungan</th>\n",
       "      <th>aspek</th>\n",
       "    </tr>\n",
       "  </thead>\n",
       "  <tbody>\n",
       "    <tr>\n",
       "      <th>0</th>\n",
       "      <td>Tempat nyaman bersih tapi tv terlalu tinggi ti...</td>\n",
       "      <td>pos</td>\n",
       "      <td>neut</td>\n",
       "      <td>neut</td>\n",
       "      <td>posneutneut</td>\n",
       "      <td>kebersihan</td>\n",
       "    </tr>\n",
       "    <tr>\n",
       "      <th>1</th>\n",
       "      <td>hotelnya bersih dan nyaman, tp keyika masuk ka...</td>\n",
       "      <td>pos</td>\n",
       "      <td>neut</td>\n",
       "      <td>neut</td>\n",
       "      <td>posneutneut</td>\n",
       "      <td>kebersihan</td>\n",
       "    </tr>\n",
       "    <tr>\n",
       "      <th>2</th>\n",
       "      <td>Bersih,nyaman &amp; asri. Cuma syg prnh airnya mat...</td>\n",
       "      <td>pos</td>\n",
       "      <td>neut</td>\n",
       "      <td>neut</td>\n",
       "      <td>posneutneut</td>\n",
       "      <td>kebersihan</td>\n",
       "    </tr>\n",
       "    <tr>\n",
       "      <th>3</th>\n",
       "      <td>Kamar bersih dan nyaman, sarapan minimalis, cu...</td>\n",
       "      <td>pos</td>\n",
       "      <td>neut</td>\n",
       "      <td>neut</td>\n",
       "      <td>posneutneut</td>\n",
       "      <td>kebersihan</td>\n",
       "    </tr>\n",
       "    <tr>\n",
       "      <th>4</th>\n",
       "      <td>bersih tempatnya. saya suka. cuma air panasnya...</td>\n",
       "      <td>pos</td>\n",
       "      <td>neut</td>\n",
       "      <td>neut</td>\n",
       "      <td>posneutneut</td>\n",
       "      <td>kebersihan</td>\n",
       "    </tr>\n",
       "  </tbody>\n",
       "</table>\n",
       "</div>"
      ],
      "text/plain": [
       "                                              review kebersihan linen service  \\\n",
       "0  Tempat nyaman bersih tapi tv terlalu tinggi ti...        pos  neut    neut   \n",
       "1  hotelnya bersih dan nyaman, tp keyika masuk ka...        pos  neut    neut   \n",
       "2  Bersih,nyaman & asri. Cuma syg prnh airnya mat...        pos  neut    neut   \n",
       "3  Kamar bersih dan nyaman, sarapan minimalis, cu...        pos  neut    neut   \n",
       "4  bersih tempatnya. saya suka. cuma air panasnya...        pos  neut    neut   \n",
       "\n",
       "      Gabungan       aspek  \n",
       "0  posneutneut  kebersihan  \n",
       "1  posneutneut  kebersihan  \n",
       "2  posneutneut  kebersihan  \n",
       "3  posneutneut  kebersihan  \n",
       "4  posneutneut  kebersihan  "
      ]
     },
     "execution_count": 90,
     "metadata": {},
     "output_type": "execute_result"
    }
   ],
   "source": [
    "kebersihan_combined.head()"
   ]
  },
  {
   "cell_type": "code",
   "execution_count": 91,
   "metadata": {},
   "outputs": [
    {
     "name": "stderr",
     "output_type": "stream",
     "text": [
      "Proses Cleaning: 100%|██████████| 298/298 [00:00<00:00, 23820.37it/s]\n",
      "Proses Negation Handling: 100%|██████████| 298/298 [00:00<00:00, 149242.10it/s]\n",
      "Proses Tokenizing: 100%|██████████| 298/298 [00:00<00:00, 11355.73it/s]\n",
      "Proses Word Normalizing:   2%|▏         | 5/298 [00:00<00:06, 44.04it/s]"
     ]
    },
    {
     "name": "stderr",
     "output_type": "stream",
     "text": [
      "Proses Word Normalizing: 100%|██████████| 298/298 [00:04<00:00, 66.85it/s]\n",
      "Proses Stopword Removal: 100%|██████████| 298/298 [00:00<00:00, 12417.94it/s]\n",
      "Proses Stemming: 100%|██████████| 298/298 [00:00<00:00, 31463.09it/s]\n"
     ]
    },
    {
     "data": {
      "text/html": [
       "<div>\n",
       "<style scoped>\n",
       "    .dataframe tbody tr th:only-of-type {\n",
       "        vertical-align: middle;\n",
       "    }\n",
       "\n",
       "    .dataframe tbody tr th {\n",
       "        vertical-align: top;\n",
       "    }\n",
       "\n",
       "    .dataframe thead th {\n",
       "        text-align: right;\n",
       "    }\n",
       "</style>\n",
       "<table border=\"1\" class=\"dataframe\">\n",
       "  <thead>\n",
       "    <tr style=\"text-align: right;\">\n",
       "      <th></th>\n",
       "      <th>review</th>\n",
       "      <th>label</th>\n",
       "    </tr>\n",
       "  </thead>\n",
       "  <tbody>\n",
       "    <tr>\n",
       "      <th>0</th>\n",
       "      <td>nyaman bersih tv tidakbisa lihat</td>\n",
       "      <td>pos</td>\n",
       "    </tr>\n",
       "    <tr>\n",
       "      <th>1</th>\n",
       "      <td>hotel bersih nyaman keyika masuk kamar bau bek...</td>\n",
       "      <td>pos</td>\n",
       "    </tr>\n",
       "    <tr>\n",
       "      <th>2</th>\n",
       "      <td>bersih nyaman asri sayang air mati lokasi bkn ...</td>\n",
       "      <td>pos</td>\n",
       "    </tr>\n",
       "    <tr>\n",
       "      <th>3</th>\n",
       "      <td>kamar bersih nyaman sarap minimal menu air pan...</td>\n",
       "      <td>pos</td>\n",
       "    </tr>\n",
       "    <tr>\n",
       "      <th>4</th>\n",
       "      <td>bersih tempat suka air panas macet kmrn</td>\n",
       "      <td>pos</td>\n",
       "    </tr>\n",
       "  </tbody>\n",
       "</table>\n",
       "</div>"
      ],
      "text/plain": [
       "                                              review label\n",
       "0                   nyaman bersih tv tidakbisa lihat   pos\n",
       "1  hotel bersih nyaman keyika masuk kamar bau bek...   pos\n",
       "2  bersih nyaman asri sayang air mati lokasi bkn ...   pos\n",
       "3  kamar bersih nyaman sarap minimal menu air pan...   pos\n",
       "4            bersih tempat suka air panas macet kmrn   pos"
      ]
     },
     "execution_count": 91,
     "metadata": {},
     "output_type": "execute_result"
    }
   ],
   "source": [
    "df_kebersihan_clean = data_preprocessor(kebersihan_combined, 'kebersihan')\n",
    "df_kebersihan_clean.head()"
   ]
  },
  {
   "cell_type": "code",
   "execution_count": 92,
   "metadata": {},
   "outputs": [],
   "source": [
    "df_kebersihan_clean.to_csv('datasets/cleaned_datasets/cleaned-kebersihan-data.csv', index=False)"
   ]
  },
  {
   "cell_type": "markdown",
   "metadata": {},
   "source": [
    "## Aspek Service"
   ]
  },
  {
   "cell_type": "code",
   "execution_count": 93,
   "metadata": {},
   "outputs": [
    {
     "data": {
      "text/html": [
       "<div>\n",
       "<style scoped>\n",
       "    .dataframe tbody tr th:only-of-type {\n",
       "        vertical-align: middle;\n",
       "    }\n",
       "\n",
       "    .dataframe tbody tr th {\n",
       "        vertical-align: top;\n",
       "    }\n",
       "\n",
       "    .dataframe thead th {\n",
       "        text-align: right;\n",
       "    }\n",
       "</style>\n",
       "<table border=\"1\" class=\"dataframe\">\n",
       "  <thead>\n",
       "    <tr style=\"text-align: right;\">\n",
       "      <th></th>\n",
       "      <th>review</th>\n",
       "      <th>kebersihan</th>\n",
       "      <th>linen</th>\n",
       "      <th>service</th>\n",
       "      <th>Gabungan</th>\n",
       "      <th>aspek</th>\n",
       "    </tr>\n",
       "  </thead>\n",
       "  <tbody>\n",
       "    <tr>\n",
       "      <th>0</th>\n",
       "      <td>Pelayanan ramah, staf semua ramah dan baik.</td>\n",
       "      <td>neut</td>\n",
       "      <td>neut</td>\n",
       "      <td>pos</td>\n",
       "      <td>neutneutpos</td>\n",
       "      <td>service</td>\n",
       "    </tr>\n",
       "    <tr>\n",
       "      <th>1</th>\n",
       "      <td>Pelayanan bagus sangat ramah.</td>\n",
       "      <td>neut</td>\n",
       "      <td>neut</td>\n",
       "      <td>pos</td>\n",
       "      <td>neutneutpos</td>\n",
       "      <td>service</td>\n",
       "    </tr>\n",
       "    <tr>\n",
       "      <th>2</th>\n",
       "      <td>Layanan yang memuaskan, pelayanannya ramah.</td>\n",
       "      <td>neut</td>\n",
       "      <td>neut</td>\n",
       "      <td>pos</td>\n",
       "      <td>neutneutpos</td>\n",
       "      <td>service</td>\n",
       "    </tr>\n",
       "    <tr>\n",
       "      <th>3</th>\n",
       "      <td>Pelayanan ok, tapi...</td>\n",
       "      <td>neut</td>\n",
       "      <td>neut</td>\n",
       "      <td>pos</td>\n",
       "      <td>neutneutpos</td>\n",
       "      <td>service</td>\n",
       "    </tr>\n",
       "    <tr>\n",
       "      <th>4</th>\n",
       "      <td>Layanan yang memuaskan bagai di rumah sendiri.</td>\n",
       "      <td>neut</td>\n",
       "      <td>neut</td>\n",
       "      <td>pos</td>\n",
       "      <td>neutneutpos</td>\n",
       "      <td>service</td>\n",
       "    </tr>\n",
       "  </tbody>\n",
       "</table>\n",
       "</div>"
      ],
      "text/plain": [
       "                                           review kebersihan linen service  \\\n",
       "0     Pelayanan ramah, staf semua ramah dan baik.       neut  neut     pos   \n",
       "1                   Pelayanan bagus sangat ramah.       neut  neut     pos   \n",
       "2     Layanan yang memuaskan, pelayanannya ramah.       neut  neut     pos   \n",
       "3                           Pelayanan ok, tapi...       neut  neut     pos   \n",
       "4  Layanan yang memuaskan bagai di rumah sendiri.       neut  neut     pos   \n",
       "\n",
       "      Gabungan    aspek  \n",
       "0  neutneutpos  service  \n",
       "1  neutneutpos  service  \n",
       "2  neutneutpos  service  \n",
       "3  neutneutpos  service  \n",
       "4  neutneutpos  service  "
      ]
     },
     "execution_count": 93,
     "metadata": {},
     "output_type": "execute_result"
    }
   ],
   "source": [
    "service_combined.head()"
   ]
  },
  {
   "cell_type": "code",
   "execution_count": 94,
   "metadata": {},
   "outputs": [
    {
     "name": "stderr",
     "output_type": "stream",
     "text": [
      "Proses Cleaning: 100%|██████████| 298/298 [00:00<00:00, 42571.61it/s]\n",
      "Proses Negation Handling: 100%|██████████| 298/298 [00:00<00:00, 297737.64it/s]\n",
      "Proses Tokenizing: 100%|██████████| 298/298 [00:00<00:00, 14288.85it/s]\n",
      "Proses Word Normalizing: 100%|██████████| 298/298 [00:03<00:00, 91.81it/s] \n",
      "Proses Stopword Removal: 100%|██████████| 298/298 [00:00<00:00, 11867.33it/s]\n",
      "Proses Stemming: 100%|██████████| 298/298 [00:00<00:00, 33120.53it/s]\n"
     ]
    },
    {
     "data": {
      "text/html": [
       "<div>\n",
       "<style scoped>\n",
       "    .dataframe tbody tr th:only-of-type {\n",
       "        vertical-align: middle;\n",
       "    }\n",
       "\n",
       "    .dataframe tbody tr th {\n",
       "        vertical-align: top;\n",
       "    }\n",
       "\n",
       "    .dataframe thead th {\n",
       "        text-align: right;\n",
       "    }\n",
       "</style>\n",
       "<table border=\"1\" class=\"dataframe\">\n",
       "  <thead>\n",
       "    <tr style=\"text-align: right;\">\n",
       "      <th></th>\n",
       "      <th>review</th>\n",
       "      <th>label</th>\n",
       "    </tr>\n",
       "  </thead>\n",
       "  <tbody>\n",
       "    <tr>\n",
       "      <th>0</th>\n",
       "      <td>layan ramah staf ramah</td>\n",
       "      <td>pos</td>\n",
       "    </tr>\n",
       "    <tr>\n",
       "      <th>1</th>\n",
       "      <td>layan bagus ramah</td>\n",
       "      <td>pos</td>\n",
       "    </tr>\n",
       "    <tr>\n",
       "      <th>2</th>\n",
       "      <td>layan muas layan ramah</td>\n",
       "      <td>pos</td>\n",
       "    </tr>\n",
       "    <tr>\n",
       "      <th>3</th>\n",
       "      <td>layan ok</td>\n",
       "      <td>pos</td>\n",
       "    </tr>\n",
       "    <tr>\n",
       "      <th>4</th>\n",
       "      <td>layan muas rumah</td>\n",
       "      <td>pos</td>\n",
       "    </tr>\n",
       "  </tbody>\n",
       "</table>\n",
       "</div>"
      ],
      "text/plain": [
       "                   review label\n",
       "0  layan ramah staf ramah   pos\n",
       "1       layan bagus ramah   pos\n",
       "2  layan muas layan ramah   pos\n",
       "3                layan ok   pos\n",
       "4        layan muas rumah   pos"
      ]
     },
     "execution_count": 94,
     "metadata": {},
     "output_type": "execute_result"
    }
   ],
   "source": [
    "df_service_clean = data_preprocessor(service_combined, 'service')\n",
    "df_service_clean.head()"
   ]
  },
  {
   "cell_type": "code",
   "execution_count": 95,
   "metadata": {},
   "outputs": [],
   "source": [
    "df_service_clean.to_csv('datasets/cleaned_datasets/cleaned-service-data.csv', index=False)"
   ]
  },
  {
   "cell_type": "markdown",
   "metadata": {},
   "source": [
    "## Aspek Linen"
   ]
  },
  {
   "cell_type": "code",
   "execution_count": 96,
   "metadata": {},
   "outputs": [
    {
     "data": {
      "text/html": [
       "<div>\n",
       "<style scoped>\n",
       "    .dataframe tbody tr th:only-of-type {\n",
       "        vertical-align: middle;\n",
       "    }\n",
       "\n",
       "    .dataframe tbody tr th {\n",
       "        vertical-align: top;\n",
       "    }\n",
       "\n",
       "    .dataframe thead th {\n",
       "        text-align: right;\n",
       "    }\n",
       "</style>\n",
       "<table border=\"1\" class=\"dataframe\">\n",
       "  <thead>\n",
       "    <tr style=\"text-align: right;\">\n",
       "      <th></th>\n",
       "      <th>review</th>\n",
       "      <th>kebersihan</th>\n",
       "      <th>linen</th>\n",
       "      <th>service</th>\n",
       "      <th>Gabungan</th>\n",
       "      <th>aspek</th>\n",
       "    </tr>\n",
       "  </thead>\n",
       "  <tbody>\n",
       "    <tr>\n",
       "      <th>0</th>\n",
       "      <td>Saya senang dengan kualitas tidurnya, bantal-b...</td>\n",
       "      <td>neut</td>\n",
       "      <td>pos</td>\n",
       "      <td>neut</td>\n",
       "      <td>neutposneut</td>\n",
       "      <td>linen</td>\n",
       "    </tr>\n",
       "    <tr>\n",
       "      <th>1</th>\n",
       "      <td>Meskipun ada sedikit kekurangan, namun kamar c...</td>\n",
       "      <td>neut</td>\n",
       "      <td>pos</td>\n",
       "      <td>neut</td>\n",
       "      <td>neutposneut</td>\n",
       "      <td>linen</td>\n",
       "    </tr>\n",
       "    <tr>\n",
       "      <th>2</th>\n",
       "      <td>Kualitas kamarnya bagus, terutama ukuran tempa...</td>\n",
       "      <td>neut</td>\n",
       "      <td>pos</td>\n",
       "      <td>neut</td>\n",
       "      <td>neutposneut</td>\n",
       "      <td>linen</td>\n",
       "    </tr>\n",
       "    <tr>\n",
       "      <th>3</th>\n",
       "      <td>Kamar terjangkau dengan fasilitas makanan ring...</td>\n",
       "      <td>neut</td>\n",
       "      <td>pos</td>\n",
       "      <td>neut</td>\n",
       "      <td>neutposneut</td>\n",
       "      <td>linen</td>\n",
       "    </tr>\n",
       "    <tr>\n",
       "      <th>4</th>\n",
       "      <td>Kamarnya bagus dan pertama kali menggunakan Ai...</td>\n",
       "      <td>neut</td>\n",
       "      <td>pos</td>\n",
       "      <td>neut</td>\n",
       "      <td>neutposneut</td>\n",
       "      <td>linen</td>\n",
       "    </tr>\n",
       "  </tbody>\n",
       "</table>\n",
       "</div>"
      ],
      "text/plain": [
       "                                              review kebersihan linen service  \\\n",
       "0  Saya senang dengan kualitas tidurnya, bantal-b...       neut   pos    neut   \n",
       "1  Meskipun ada sedikit kekurangan, namun kamar c...       neut   pos    neut   \n",
       "2  Kualitas kamarnya bagus, terutama ukuran tempa...       neut   pos    neut   \n",
       "3  Kamar terjangkau dengan fasilitas makanan ring...       neut   pos    neut   \n",
       "4  Kamarnya bagus dan pertama kali menggunakan Ai...       neut   pos    neut   \n",
       "\n",
       "      Gabungan  aspek  \n",
       "0  neutposneut  linen  \n",
       "1  neutposneut  linen  \n",
       "2  neutposneut  linen  \n",
       "3  neutposneut  linen  \n",
       "4  neutposneut  linen  "
      ]
     },
     "execution_count": 96,
     "metadata": {},
     "output_type": "execute_result"
    }
   ],
   "source": [
    "linen_combined.head()"
   ]
  },
  {
   "cell_type": "code",
   "execution_count": 97,
   "metadata": {},
   "outputs": [
    {
     "name": "stderr",
     "output_type": "stream",
     "text": [
      "Proses Cleaning: 100%|██████████| 298/298 [00:00<00:00, 42577.41it/s]\n",
      "Proses Negation Handling: 100%|██████████| 298/298 [00:00<00:00, 297454.21it/s]\n",
      "Proses Tokenizing: 100%|██████████| 298/298 [00:00<00:00, 16476.66it/s]\n",
      "Proses Word Normalizing: 100%|██████████| 298/298 [00:03<00:00, 94.12it/s] \n",
      "Proses Stopword Removal: 100%|██████████| 298/298 [00:00<00:00, 17598.07it/s]\n",
      "Proses Stemming: 100%|██████████| 298/298 [00:00<00:00, 38977.85it/s]\n"
     ]
    },
    {
     "data": {
      "text/html": [
       "<div>\n",
       "<style scoped>\n",
       "    .dataframe tbody tr th:only-of-type {\n",
       "        vertical-align: middle;\n",
       "    }\n",
       "\n",
       "    .dataframe tbody tr th {\n",
       "        vertical-align: top;\n",
       "    }\n",
       "\n",
       "    .dataframe thead th {\n",
       "        text-align: right;\n",
       "    }\n",
       "</style>\n",
       "<table border=\"1\" class=\"dataframe\">\n",
       "  <thead>\n",
       "    <tr style=\"text-align: right;\">\n",
       "      <th></th>\n",
       "      <th>review</th>\n",
       "      <th>label</th>\n",
       "    </tr>\n",
       "  </thead>\n",
       "  <tbody>\n",
       "    <tr>\n",
       "      <th>0</th>\n",
       "      <td>senang kualitas tidur bantal bantal lembut tid...</td>\n",
       "      <td>pos</td>\n",
       "    </tr>\n",
       "    <tr>\n",
       "      <th>1</th>\n",
       "      <td>kurang kamar luas kasur empuk</td>\n",
       "      <td>pos</td>\n",
       "    </tr>\n",
       "    <tr>\n",
       "      <th>2</th>\n",
       "      <td>kualitas kamar bagus ukur tidur fasilitas lengkap</td>\n",
       "      <td>pos</td>\n",
       "    </tr>\n",
       "    <tr>\n",
       "      <th>3</th>\n",
       "      <td>kamar jangkau fasilitas makan ringan sarap sen...</td>\n",
       "      <td>pos</td>\n",
       "    </tr>\n",
       "    <tr>\n",
       "      <th>4</th>\n",
       "      <td>kamar bagus kali airy muas makan ringan alat t...</td>\n",
       "      <td>pos</td>\n",
       "    </tr>\n",
       "  </tbody>\n",
       "</table>\n",
       "</div>"
      ],
      "text/plain": [
       "                                              review label\n",
       "0  senang kualitas tidur bantal bantal lembut tid...   pos\n",
       "1                      kurang kamar luas kasur empuk   pos\n",
       "2  kualitas kamar bagus ukur tidur fasilitas lengkap   pos\n",
       "3  kamar jangkau fasilitas makan ringan sarap sen...   pos\n",
       "4  kamar bagus kali airy muas makan ringan alat t...   pos"
      ]
     },
     "execution_count": 97,
     "metadata": {},
     "output_type": "execute_result"
    }
   ],
   "source": [
    "df_linen_clean = data_preprocessor(linen_combined, 'linen')\n",
    "df_linen_clean.head()"
   ]
  },
  {
   "cell_type": "code",
   "execution_count": 98,
   "metadata": {},
   "outputs": [],
   "source": [
    "df_linen_clean.to_csv('datasets/cleaned_datasets/cleaned-linen-data.csv', index=False)"
   ]
  }
 ],
 "metadata": {
  "kernelspec": {
   "display_name": "Python 3",
   "language": "python",
   "name": "python3"
  },
  "language_info": {
   "codemirror_mode": {
    "name": "ipython",
    "version": 3
   },
   "file_extension": ".py",
   "mimetype": "text/x-python",
   "name": "python",
   "nbconvert_exporter": "python",
   "pygments_lexer": "ipython3",
   "version": "3.12.1"
  }
 },
 "nbformat": 4,
 "nbformat_minor": 2
}
