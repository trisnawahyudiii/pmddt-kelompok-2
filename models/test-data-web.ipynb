{
 "cells": [
  {
   "cell_type": "code",
   "execution_count": 1,
   "metadata": {},
   "outputs": [],
   "source": [
    "import pandas as pd"
   ]
  },
  {
   "cell_type": "code",
   "execution_count": 3,
   "metadata": {},
   "outputs": [
    {
     "name": "stdout",
     "output_type": "stream",
     "text": [
      "Failed to decode with utf-8 encoding. Trying another encoding...\n"
     ]
    }
   ],
   "source": [
    "import pandas as pd\n",
    "\n",
    "# Replace 'your_csv_file.csv' with the actual file path\n",
    "csv_file_path = 'datasets/Traveloka-id application rating and review dataset.csv'\n",
    "\n",
    "# Try reading the CSV file with different encodings\n",
    "encodings = ['utf-8', 'latin1', 'ISO-8859-1', 'utf-16']\n",
    "df = None\n",
    "\n",
    "for encoding in encodings:\n",
    "    try:\n",
    "        df = pd.read_csv(csv_file_path, encoding=encoding)\n",
    "        break\n",
    "    except UnicodeDecodeError:\n",
    "        print(f\"Failed to decode with {encoding} encoding. Trying another encoding...\")\n",
    "\n",
    "# Display the DataFrame if successfully read\n",
    "if df is not None:\n",
    "    df.head()\n",
    "else:\n",
    "    print(\"Unable to read the CSV file. Check the file path and encoding.\")\n"
   ]
  },
  {
   "cell_type": "code",
   "execution_count": 4,
   "metadata": {},
   "outputs": [
    {
     "data": {
      "text/html": [
       "<div>\n",
       "<style scoped>\n",
       "    .dataframe tbody tr th:only-of-type {\n",
       "        vertical-align: middle;\n",
       "    }\n",
       "\n",
       "    .dataframe tbody tr th {\n",
       "        vertical-align: top;\n",
       "    }\n",
       "\n",
       "    .dataframe thead th {\n",
       "        text-align: right;\n",
       "    }\n",
       "</style>\n",
       "<table border=\"1\" class=\"dataframe\">\n",
       "  <thead>\n",
       "    <tr style=\"text-align: right;\">\n",
       "      <th></th>\n",
       "      <th>Nama</th>\n",
       "      <th>Bintang</th>\n",
       "      <th>Tanggal dan Waktu</th>\n",
       "      <th>Ulasan</th>\n",
       "    </tr>\n",
       "  </thead>\n",
       "  <tbody>\n",
       "    <tr>\n",
       "      <th>0</th>\n",
       "      <td>Edy Suranto</td>\n",
       "      <td>5.0</td>\n",
       "      <td>11/17/2023 9:33</td>\n",
       "      <td>Aplikasi yang sangat bagus, banyak sekali prom...</td>\n",
       "    </tr>\n",
       "    <tr>\n",
       "      <th>1</th>\n",
       "      <td>p mustika</td>\n",
       "      <td>2.0</td>\n",
       "      <td>11/16/2023 21:27</td>\n",
       "      <td>Semua aman terkendali sampai akun paylater di ...</td>\n",
       "    </tr>\n",
       "    <tr>\n",
       "      <th>2</th>\n",
       "      <td>Akhmad Jailani</td>\n",
       "      <td>5.0</td>\n",
       "      <td>11/9/2023 5:14</td>\n",
       "      <td>Aplikasi yang sangat bagus, banyak promo yang ...</td>\n",
       "    </tr>\n",
       "    <tr>\n",
       "      <th>3</th>\n",
       "      <td>Laras Ayu</td>\n",
       "      <td>5.0</td>\n",
       "      <td>11/13/2023 9:07</td>\n",
       "      <td>Aplikasi yang sangat bagus, banyak promo yang ...</td>\n",
       "    </tr>\n",
       "    <tr>\n",
       "      <th>4</th>\n",
       "      <td>19 chanel</td>\n",
       "      <td>5.0</td>\n",
       "      <td>11/17/2023 5:29</td>\n",
       "      <td>Aplikasi ini sangat memudah urusana perjalanan...</td>\n",
       "    </tr>\n",
       "  </tbody>\n",
       "</table>\n",
       "</div>"
      ],
      "text/plain": [
       "             Nama  Bintang Tanggal dan Waktu  \\\n",
       "0     Edy Suranto      5.0   11/17/2023 9:33   \n",
       "1       p mustika      2.0  11/16/2023 21:27   \n",
       "2  Akhmad Jailani      5.0    11/9/2023 5:14   \n",
       "3       Laras Ayu      5.0   11/13/2023 9:07   \n",
       "4       19 chanel      5.0   11/17/2023 5:29   \n",
       "\n",
       "                                              Ulasan  \n",
       "0  Aplikasi yang sangat bagus, banyak sekali prom...  \n",
       "1  Semua aman terkendali sampai akun paylater di ...  \n",
       "2  Aplikasi yang sangat bagus, banyak promo yang ...  \n",
       "3  Aplikasi yang sangat bagus, banyak promo yang ...  \n",
       "4  Aplikasi ini sangat memudah urusana perjalanan...  "
      ]
     },
     "execution_count": 4,
     "metadata": {},
     "output_type": "execute_result"
    }
   ],
   "source": [
    "df.head()"
   ]
  },
  {
   "cell_type": "code",
   "execution_count": 7,
   "metadata": {},
   "outputs": [
    {
     "data": {
      "text/html": [
       "<div>\n",
       "<style scoped>\n",
       "    .dataframe tbody tr th:only-of-type {\n",
       "        vertical-align: middle;\n",
       "    }\n",
       "\n",
       "    .dataframe tbody tr th {\n",
       "        vertical-align: top;\n",
       "    }\n",
       "\n",
       "    .dataframe thead th {\n",
       "        text-align: right;\n",
       "    }\n",
       "</style>\n",
       "<table border=\"1\" class=\"dataframe\">\n",
       "  <thead>\n",
       "    <tr style=\"text-align: right;\">\n",
       "      <th></th>\n",
       "      <th>review</th>\n",
       "    </tr>\n",
       "  </thead>\n",
       "  <tbody>\n",
       "    <tr>\n",
       "      <th>0</th>\n",
       "      <td>Aplikasi yang sangat bagus, banyak sekali prom...</td>\n",
       "    </tr>\n",
       "    <tr>\n",
       "      <th>1</th>\n",
       "      <td>Semua aman terkendali sampai akun paylater di ...</td>\n",
       "    </tr>\n",
       "    <tr>\n",
       "      <th>2</th>\n",
       "      <td>Aplikasi yang sangat bagus, banyak promo yang ...</td>\n",
       "    </tr>\n",
       "    <tr>\n",
       "      <th>3</th>\n",
       "      <td>Aplikasi yang sangat bagus, banyak promo yang ...</td>\n",
       "    </tr>\n",
       "    <tr>\n",
       "      <th>4</th>\n",
       "      <td>Aplikasi ini sangat memudah urusana perjalanan...</td>\n",
       "    </tr>\n",
       "  </tbody>\n",
       "</table>\n",
       "</div>"
      ],
      "text/plain": [
       "                                              review\n",
       "0  Aplikasi yang sangat bagus, banyak sekali prom...\n",
       "1  Semua aman terkendali sampai akun paylater di ...\n",
       "2  Aplikasi yang sangat bagus, banyak promo yang ...\n",
       "3  Aplikasi yang sangat bagus, banyak promo yang ...\n",
       "4  Aplikasi ini sangat memudah urusana perjalanan..."
      ]
     },
     "execution_count": 7,
     "metadata": {},
     "output_type": "execute_result"
    }
   ],
   "source": [
    "df['review'] = df['Ulasan']\n",
    "df = df.drop([\"Nama\", \"Bintang\", \"Tanggal dan Waktu\", \"Ulasan\"], axis=1)\n",
    "df.head()"
   ]
  },
  {
   "cell_type": "code",
   "execution_count": 8,
   "metadata": {},
   "outputs": [],
   "source": [
    "df.to_csv('datasets/traveloka_review.csv', index=False)"
   ]
  }
 ],
 "metadata": {
  "kernelspec": {
   "display_name": "Python 3",
   "language": "python",
   "name": "python3"
  },
  "language_info": {
   "codemirror_mode": {
    "name": "ipython",
    "version": 3
   },
   "file_extension": ".py",
   "mimetype": "text/x-python",
   "name": "python",
   "nbconvert_exporter": "python",
   "pygments_lexer": "ipython3",
   "version": "3.12.1"
  }
 },
 "nbformat": 4,
 "nbformat_minor": 2
}
