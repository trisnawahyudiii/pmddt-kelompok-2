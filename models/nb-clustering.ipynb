{
 "cells": [
  {
   "cell_type": "code",
   "execution_count": 42,
   "metadata": {},
   "outputs": [],
   "source": [
    "import pandas as pd\n",
    "from sklearn.model_selection import train_test_split\n",
    "from sklearn.feature_extraction.text import TfidfVectorizer\n",
    "from imblearn.over_sampling import SMOTE\n",
    "from matplotlib import pyplot as plt\n",
    "\n",
    "from sklearn.naive_bayes import MultinomialNB\n",
    "from sklearn.model_selection import GridSearchCV\n",
    "from sklearn.metrics import accuracy_score, precision_score, recall_score, f1_score, ConfusionMatrixDisplay, classification_report\n",
    "\n",
    "from Sastrawi.StopWordRemover.StopWordRemoverFactory import StopWordRemoverFactory\n",
    "\n",
    "import pickle"
   ]
  },
  {
   "cell_type": "markdown",
   "metadata": {},
   "source": [
    "# Read the dataset"
   ]
  },
  {
   "cell_type": "code",
   "execution_count": 43,
   "metadata": {},
   "outputs": [
    {
     "data": {
      "text/html": [
       "<div>\n",
       "<style scoped>\n",
       "    .dataframe tbody tr th:only-of-type {\n",
       "        vertical-align: middle;\n",
       "    }\n",
       "\n",
       "    .dataframe tbody tr th {\n",
       "        vertical-align: top;\n",
       "    }\n",
       "\n",
       "    .dataframe thead th {\n",
       "        text-align: right;\n",
       "    }\n",
       "</style>\n",
       "<table border=\"1\" class=\"dataframe\">\n",
       "  <thead>\n",
       "    <tr style=\"text-align: right;\">\n",
       "      <th></th>\n",
       "      <th>review</th>\n",
       "      <th>label</th>\n",
       "    </tr>\n",
       "  </thead>\n",
       "  <tbody>\n",
       "    <tr>\n",
       "      <th>0</th>\n",
       "      <td>nyaman bersih tv lihat</td>\n",
       "      <td>kebersihan</td>\n",
       "    </tr>\n",
       "    <tr>\n",
       "      <th>1</th>\n",
       "      <td>hotel bersih nyaman keyika masuk kamar bau bek...</td>\n",
       "      <td>kebersihan</td>\n",
       "    </tr>\n",
       "    <tr>\n",
       "      <th>2</th>\n",
       "      <td>bersih nyaman asri sayang air mati lokasi bkn ...</td>\n",
       "      <td>kebersihan</td>\n",
       "    </tr>\n",
       "    <tr>\n",
       "      <th>3</th>\n",
       "      <td>kamar bersih nyaman sarap minimal menu air pan...</td>\n",
       "      <td>kebersihan</td>\n",
       "    </tr>\n",
       "    <tr>\n",
       "      <th>4</th>\n",
       "      <td>bersih tempat suka air panas macet kmrn</td>\n",
       "      <td>kebersihan</td>\n",
       "    </tr>\n",
       "  </tbody>\n",
       "</table>\n",
       "</div>"
      ],
      "text/plain": [
       "                                              review       label\n",
       "0                             nyaman bersih tv lihat  kebersihan\n",
       "1  hotel bersih nyaman keyika masuk kamar bau bek...  kebersihan\n",
       "2  bersih nyaman asri sayang air mati lokasi bkn ...  kebersihan\n",
       "3  kamar bersih nyaman sarap minimal menu air pan...  kebersihan\n",
       "4            bersih tempat suka air panas macet kmrn  kebersihan"
      ]
     },
     "execution_count": 43,
     "metadata": {},
     "output_type": "execute_result"
    }
   ],
   "source": [
    "df = pd.read_csv('datasets/cleaned_datasets/clean_clustering_dataset.csv')\n",
    "df.head()"
   ]
  },
  {
   "cell_type": "markdown",
   "metadata": {},
   "source": [
    "# Split dataset "
   ]
  },
  {
   "cell_type": "code",
   "execution_count": 44,
   "metadata": {},
   "outputs": [
    {
     "name": "stdout",
     "output_type": "stream",
     "text": [
      "X_train shape: (715,)\n",
      "X_test shape: (179,)\n",
      "y_train shape: (715,)\n",
      "y_test shape: (179,)\n"
     ]
    }
   ],
   "source": [
    "X_train, X_test, y_train, y_test = train_test_split(df['review'], df['label'], test_size=0.2, random_state=42)\n",
    "\n",
    "# Menampilkan hasil\n",
    "print(\"X_train shape:\", X_train.shape)\n",
    "print(\"X_test shape:\", X_test.shape)\n",
    "print(\"y_train shape:\", y_train.shape)\n",
    "print(\"y_test shape:\", y_test.shape)"
   ]
  },
  {
   "cell_type": "markdown",
   "metadata": {},
   "source": [
    "# TF-IDF "
   ]
  },
  {
   "cell_type": "code",
   "execution_count": 45,
   "metadata": {},
   "outputs": [
    {
     "name": "stdout",
     "output_type": "stream",
     "text": [
      "(715, 4737)\n",
      "(179, 4737)\n"
     ]
    }
   ],
   "source": [
    "# Inisialisasi objek stopword remover\n",
    "stopword_factory = StopWordRemoverFactory()\n",
    "stopwords = stopword_factory.get_stop_words()\n",
    "\n",
    "# tf_idf model\n",
    "tfidf_vectorizer = TfidfVectorizer(ngram_range=(1,2), stop_words=stopwords)\n",
    "\n",
    "# menghitung nilai tf-idf\n",
    "train_tfidf_matrix = tfidf_vectorizer.fit_transform(X_train)\n",
    "test_tfidf_matrix = tfidf_vectorizer.transform(X_test)\n",
    "\n",
    "# Menampilkan hasil\n",
    "print(train_tfidf_matrix.shape)\n",
    "print(test_tfidf_matrix.shape)"
   ]
  },
  {
   "cell_type": "markdown",
   "metadata": {},
   "source": [
    "# Smote"
   ]
  },
  {
   "cell_type": "code",
   "execution_count": 46,
   "metadata": {},
   "outputs": [
    {
     "name": "stdout",
     "output_type": "stream",
     "text": [
      "X_train_resampled shape: (723, 4737)\n",
      "X_test_resampled shape: (186, 4737)\n",
      "y_train y_train_resampled: (723,)\n",
      "y_test_resampled shape: (186,)\n"
     ]
    }
   ],
   "source": [
    "# Train\n",
    "X_train_resampled, y_train_resampled = SMOTE(random_state=42).fit_resample(train_tfidf_matrix, y_train)\n",
    "X_test_resampled, y_test_resampled = SMOTE(random_state=42).fit_resample(test_tfidf_matrix, y_test)\n",
    "\n",
    "# Menampilkan hasil\n",
    "print(\"X_train_resampled shape:\", X_train_resampled.shape)\n",
    "print(\"X_test_resampled shape:\", X_test_resampled.shape)\n",
    "print(\"y_train y_train_resampled:\", y_train_resampled.shape)\n",
    "print(\"y_test_resampled shape:\", y_test_resampled.shape)"
   ]
  },
  {
   "cell_type": "markdown",
   "metadata": {},
   "source": [
    "# Naive Bayes"
   ]
  },
  {
   "cell_type": "code",
   "execution_count": 47,
   "metadata": {},
   "outputs": [
    {
     "name": "stdout",
     "output_type": "stream",
     "text": [
      "1.5\n"
     ]
    }
   ],
   "source": [
    "# parameter tuning\n",
    "param_grid = {'alpha': [0.1, 0.5, 1.0, 1.5]}\n",
    "grid_search = GridSearchCV(MultinomialNB(), param_grid, cv=5)\n",
    "grid_search.fit(X_train_resampled, y_train_resampled)\n",
    "\n",
    "# Mendapatkan parameter terbaik\n",
    "best_alpha = grid_search.best_params_['alpha']\n",
    "print(best_alpha)"
   ]
  },
  {
   "cell_type": "code",
   "execution_count": 48,
   "metadata": {},
   "outputs": [
    {
     "name": "stdout",
     "output_type": "stream",
     "text": [
      "Accuracy score :  0.8870967741935484\n",
      "Precision score :  0.8944444444444445\n",
      "Recall score :  0.8870967741935484\n",
      "F1 score :  0.887671591167959\n"
     ]
    }
   ],
   "source": [
    "nb = MultinomialNB(alpha=best_alpha)\n",
    "nb.fit(X_train_resampled, y_train_resampled)\n",
    "\n",
    "y_pred = nb.predict(X_test_resampled)\n",
    "\n",
    "print('Accuracy score : ', accuracy_score(y_test_resampled, y_pred))\n",
    "print('Precision score : ', precision_score(y_test_resampled, y_pred, average='weighted'))\n",
    "print('Recall score : ', recall_score(y_test_resampled, y_pred, average='weighted'))\n",
    "print('F1 score : ', f1_score(y_test_resampled, y_pred, average='weighted'))"
   ]
  },
  {
   "cell_type": "code",
   "execution_count": 49,
   "metadata": {},
   "outputs": [
    {
     "data": {
      "image/png": "[encoded data removed]",
      "text/plain": [
       "<Figure size 640x480 with 2 Axes>"
      ]
     },
     "metadata": {},
     "output_type": "display_data"
    }
   ],
   "source": [
    "ConfusionMatrixDisplay.from_predictions(y_test_resampled, y_pred, cmap='Blues')\n",
    "plt.show()"
   ]
  },
  {
   "cell_type": "code",
   "execution_count": 50,
   "metadata": {},
   "outputs": [
    {
     "name": "stdout",
     "output_type": "stream",
     "text": [
      "              precision    recall  f1-score   support\n",
      "\n",
      "  kebersihan       0.81      0.94      0.87        62\n",
      "       linen       0.94      0.82      0.88        62\n",
      "     service       0.93      0.90      0.92        62\n",
      "\n",
      "    accuracy                           0.89       186\n",
      "   macro avg       0.89      0.89      0.89       186\n",
      "weighted avg       0.89      0.89      0.89       186\n",
      "\n"
     ]
    }
   ],
   "source": [
    "print(classification_report(y_test_resampled, y_pred))"
   ]
  },
  {
   "cell_type": "code",
   "execution_count": 51,
   "metadata": {},
   "outputs": [],
   "source": [
    "with open('trained_model/nb_cluster.pkl', 'wb') as f:\n",
    "    pickle.dump(nb, f)"
   ]
  }
 ],
 "metadata": {
  "kernelspec": {
   "display_name": "Python 3",
   "language": "python",
   "name": "python3"
  },
  "language_info": {
   "codemirror_mode": {
    "name": "ipython",
    "version": 3
   },
   "file_extension": ".py",
   "mimetype": "text/x-python",
   "name": "python",
   "nbconvert_exporter": "python",
   "pygments_lexer": "ipython3",
   "version": "3.12.1"
  }
 },
 "nbformat": 4,
 "nbformat_minor": 2
}
